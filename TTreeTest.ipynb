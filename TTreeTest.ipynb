{
 "cells": [
  {
   "cell_type": "code",
   "execution_count": 1,
   "metadata": {},
   "outputs": [
    {
     "name": "stdout",
     "output_type": "stream",
     "text": [
      "Welcome to JupyROOT 6.18/04\n"
     ]
    }
   ],
   "source": [
    "import ROOT\n",
    "from array import array\n",
    "from random import random"
   ]
  },
  {
   "cell_type": "markdown",
   "metadata": {},
   "source": [
    "### Examples\n",
    "- [the best](https://wiki.physik.uzh.ch/cms/root:pyroot_ttree)\n",
    "- [by CERN](https://root.cern.ch/how/how-write-ttree-python)"
   ]
  },
  {
   "cell_type": "code",
   "execution_count": 2,
   "metadata": {},
   "outputs": [
    {
     "name": "stdout",
     "output_type": "stream",
     "text": [
      "TFile**\t\ttest2tree.root\t\n",
      " TFile*\t\ttest2tree.root\t\n"
     ]
    }
   ],
   "source": [
    "file = ROOT.TFile(\"test2tree.root\", \"recreate\")\n",
    "file.ls()"
   ]
  },
  {
   "cell_type": "code",
   "execution_count": 3,
   "metadata": {},
   "outputs": [
    {
     "data": {
      "text/plain": [
       "ROOT.MyStruct_meta"
      ]
     },
     "execution_count": 3,
     "metadata": {},
     "output_type": "execute_result"
    }
   ],
   "source": [
    "ROOT.gROOT.ProcessLine(\n",
    "\"struct MyStruct {\\\n",
    "   Int_t     fMyInt1;\\\n",
    "   Int_t     fMyInt2;\\\n",
    "   Int_t     fMyInt3;\\\n",
    "   Char_t    fMyCode[4];\\\n",
    "};\" );\n",
    "\n",
    "from ROOT import MyStruct\n",
    "type(ROOT.MyStruct)"
   ]
  },
  {
   "cell_type": "code",
   "execution_count": 4,
   "metadata": {},
   "outputs": [],
   "source": [
    "myfl = array('d', [0.0])"
   ]
  },
  {
   "cell_type": "code",
   "execution_count": 5,
   "metadata": {},
   "outputs": [],
   "source": [
    "mystruct = MyStruct()"
   ]
  },
  {
   "cell_type": "code",
   "execution_count": 6,
   "metadata": {},
   "outputs": [
    {
     "name": "stdout",
     "output_type": "stream",
     "text": [
      "TFile**\t\ttest2tree.root\t\n",
      " TFile*\t\ttest2tree.root\t\n",
      "  OBJ: TTree\tmytree\tTest tree : 0 at: 0x561e06009e40\n"
     ]
    }
   ],
   "source": [
    "mytree = ROOT.TTree('mytree', 'Test tree')\n",
    "file.ls()\n",
    "#что означают **, * (почему они в этом файле лежат)\n",
    "#и почему выводится \"ступенькой\" - какая-то иерархия?"
   ]
  },
  {
   "cell_type": "code",
   "execution_count": 7,
   "metadata": {},
   "outputs": [],
   "source": [
    "branch1 = mytree.Branch('branch1', myfl, 'myf/D')\n",
    "branch2 = mytree.Branch('branch2', mystruct, 'MyInt1/I:MyInt2:MyInt3')\n",
    "branch3 = mytree.Branch('branch3', ROOT.AddressOf(mystruct, 'fMyCode'), 'MyCode/C')"
   ]
  },
  {
   "cell_type": "code",
   "execution_count": 8,
   "metadata": {
    "scrolled": true
   },
   "outputs": [
    {
     "name": "stdout",
     "output_type": "stream",
     "text": [
      "array('d', [21.997865435218795]) 0 000\u0000\n",
      "array('d', [19.13047122117132]) 1 001\u0000\n",
      "array('d', [21.563592512391015]) 2 002\u0000\n",
      "array('d', [19.93989445734769]) 3 003\u0000\n",
      "array('d', [21.648527370025853]) 4 004\u0000\n",
      "array('d', [19.886565349041938]) 5 005\u0000\n",
      "array('d', [18.198248010734844]) 6 006\u0000\n",
      "array('d', [19.850591066030358]) 7 007\u0000\n",
      "array('d', [20.015824416068995]) 8 008\u0000\n",
      "array('d', [19.17847366683885]) 9 009\u0000\n"
     ]
    }
   ],
   "source": [
    "for i in range(10):\n",
    "    myfl[0] = ROOT.gRandom.Gaus(20, 2)\n",
    "    mystruct.fMyInt1 = i\n",
    "    mystruct.fMyInt2 = i*i\n",
    "    mystruct.fMyInt3 = i*i*i\n",
    "    mystruct.fMyCode = \"%03d\" % i\n",
    "    \n",
    "    mytree.Fill()\n",
    "    \n",
    "    print(myfl, mystruct.fMyInt1, mystruct.fMyCode)"
   ]
  },
  {
   "cell_type": "markdown",
   "metadata": {},
   "source": [
    "## ???????\n",
    "Всё супер, только почему записалась какая-то ерунда в `myfl`"
   ]
  },
  {
   "cell_type": "code",
   "execution_count": 9,
   "metadata": {},
   "outputs": [
    {
     "data": {
      "text/plain": [
       "24"
      ]
     },
     "execution_count": 9,
     "metadata": {},
     "output_type": "execute_result"
    }
   ],
   "source": [
    "mytree.GetEntry()\n",
    "##что делает этот метод и всякие другие с GetEntr..."
   ]
  },
  {
   "cell_type": "markdown",
   "metadata": {},
   "source": [
    "### Get entries "
   ]
  },
  {
   "cell_type": "code",
   "execution_count": 10,
   "metadata": {
    "scrolled": true
   },
   "outputs": [
    {
     "name": "stdout",
     "output_type": "stream",
     "text": [
      "21.997865435218795 0 0 0 0\n",
      "19.13047122117132 1 1 1 0\n",
      "21.563592512391015 2 4 8 0\n",
      "19.93989445734769 3 9 27 0\n",
      "21.648527370025853 4 16 64 0\n",
      "19.886565349041938 5 25 125 0\n",
      "18.198248010734844 6 36 216 0\n",
      "19.850591066030358 7 49 343 0\n",
      "20.015824416068995 8 64 512 0\n",
      "19.17847366683885 9 81 729 0\n"
     ]
    }
   ],
   "source": [
    "for ent in mytree:\n",
    "    print(ent.myf, ent.MyInt1, ent.MyInt2, ent.MyInt3, ent.MyCode)"
   ]
  },
  {
   "cell_type": "markdown",
   "metadata": {},
   "source": [
    "### Get entries with `tree.GetEntry(i)`"
   ]
  },
  {
   "cell_type": "code",
   "execution_count": 11,
   "metadata": {
    "scrolled": true
   },
   "outputs": [
    {
     "name": "stdout",
     "output_type": "stream",
     "text": [
      "21.997865435218795 0\n",
      "19.13047122117132 1\n",
      "21.563592512391015 2\n",
      "19.93989445734769 3\n",
      "21.648527370025853 4\n",
      "19.886565349041938 5\n",
      "18.198248010734844 6\n",
      "19.850591066030358 7\n",
      "20.015824416068995 8\n",
      "19.17847366683885 9\n"
     ]
    }
   ],
   "source": [
    "for i in range(mytree.GetEntries()):\n",
    "    mytree.GetEntry(i)\n",
    "    print(mytree.myf, mytree.MyInt1)"
   ]
  },
  {
   "cell_type": "code",
   "execution_count": 12,
   "metadata": {},
   "outputs": [],
   "source": [
    "file.Write()\n",
    "file.Close()"
   ]
  },
  {
   "cell_type": "markdown",
   "metadata": {},
   "source": [
    "## Try to read out1.root "
   ]
  },
  {
   "cell_type": "code",
   "execution_count": 13,
   "metadata": {},
   "outputs": [
    {
     "name": "stdout",
     "output_type": "stream",
     "text": [
      "TFile**\t\tout1.root\t\n",
      " TFile*\t\tout1.root\t\n",
      "  KEY: TTree\ttree;1\tTest tree\n"
     ]
    }
   ],
   "source": [
    "outfile = ROOT.TFile(\"out1.root\", \"read\")\n",
    "outfile.ls()"
   ]
  },
  {
   "cell_type": "code",
   "execution_count": 14,
   "metadata": {},
   "outputs": [
    {
     "data": {
      "text/plain": [
       "ROOT.TTree"
      ]
     },
     "execution_count": 14,
     "metadata": {},
     "output_type": "execute_result"
    }
   ],
   "source": [
    "testtree = outfile.Get('tree')\n",
    "type(testtree)"
   ]
  },
  {
   "cell_type": "code",
   "execution_count": 15,
   "metadata": {},
   "outputs": [
    {
     "name": "stdout",
     "output_type": "stream",
     "text": [
      "-1404225960 -1404225960 6.9358860643689e-310\n",
      "-1404225960 -1404225960 6.9358860643689e-310\n",
      "-1404225960 -1404225960 6.9358860643689e-310\n",
      "-1404225960 -1404225960 6.9358860643689e-310\n",
      "-1404225960 -1404225960 6.9358860643689e-310\n",
      "-1404225960 -1404225960 6.9358860643689e-310\n",
      "-1404225960 -1404225960 6.9358860643689e-310\n",
      "-1404225960 -1404225960 6.9358860643689e-310\n",
      "-1404225960 -1404225960 6.9358860643689e-310\n",
      "-1404225960 -1404225960 6.9358860643689e-310\n",
      "-1404225960 -1404225960 6.9358860643689e-310\n",
      "-1404225960 -1404225960 6.9358860643689e-310\n",
      "-1404225960 -1404225960 6.9358860643689e-310\n",
      "-1404225960 -1404225960 6.9358860643689e-310\n",
      "-1404225960 -1404225960 6.9358860643689e-310\n",
      "-1404225960 -1404225960 6.9358860643689e-310\n",
      "-1404225960 -1404225960 6.9358860643689e-310\n",
      "-1404225960 -1404225960 6.9358860643689e-310\n",
      "-1404225960 -1404225960 6.9358860643689e-310\n",
      "-1404225960 -1404225960 6.9358860643689e-310\n",
      "-1404225960 -1404225960 6.9358860643689e-310\n",
      "-1404225960 -1404225960 6.9358860643689e-310\n",
      "-1404225960 -1404225960 6.9358860643689e-310\n",
      "-1404225960 -1404225960 6.9358860643689e-310\n",
      "-1404225960 -1404225960 6.9358860643689e-310\n",
      "-1404225960 -1404225960 6.9358860643689e-310\n",
      "-1404225960 -1404225960 6.9358860643689e-310\n",
      "-1404225960 -1404225960 6.9358860643689e-310\n",
      "-1404225960 -1404225960 6.9358860643689e-310\n",
      "-1404225960 -1404225960 6.9358860643689e-310\n",
      "-1404225960 -1404225960 6.9358860643689e-310\n",
      "-1404225960 -1404225960 6.9358860643689e-310\n",
      "-1404225960 -1404225960 6.9358860643689e-310\n",
      "-1404225960 -1404225960 6.9358860643689e-310\n",
      "-1404225960 -1404225960 6.9358860643689e-310\n",
      "-1404225960 -1404225960 6.9358860643689e-310\n",
      "-1404225960 -1404225960 6.9358860643689e-310\n",
      "-1404225960 -1404225960 6.9358860643689e-310\n",
      "-1404225960 -1404225960 6.9358860643689e-310\n",
      "-1404225960 -1404225960 6.9358860643689e-310\n",
      "-1404225960 -1404225960 6.9358860643689e-310\n",
      "-1404225960 -1404225960 6.9358860643689e-310\n",
      "-1404225960 -1404225960 6.9358860643689e-310\n",
      "-1404225960 -1404225960 6.9358860643689e-310\n",
      "-1404225960 -1404225960 6.9358860643689e-310\n",
      "-1404225960 -1404225960 6.9358860643689e-310\n",
      "-1404225960 -1404225960 6.9358860643689e-310\n",
      "-1404225960 -1404225960 6.9358860643689e-310\n",
      "-1404225960 -1404225960 6.9358860643689e-310\n"
     ]
    }
   ],
   "source": [
    "for ent in testtree:\n",
    "    print(ent.run, ent.crate, ent.mean)"
   ]
  },
  {
   "cell_type": "code",
   "execution_count": 16,
   "metadata": {},
   "outputs": [],
   "source": [
    "outfile.Close()"
   ]
  },
  {
   "cell_type": "code",
   "execution_count": 17,
   "metadata": {},
   "outputs": [],
   "source": [
    "from glob import glob"
   ]
  },
  {
   "cell_type": "code",
   "execution_count": 18,
   "metadata": {},
   "outputs": [],
   "source": [
    "files_list = []\n",
    "files = glob('/home/yana/2019.12.04_dqm_histograms/hltdqm*.root')\n",
    "files.sort()"
   ]
  },
  {
   "cell_type": "code",
   "execution_count": 23,
   "metadata": {},
   "outputs": [
    {
     "data": {
      "text/plain": [
       "1052"
      ]
     },
     "execution_count": 23,
     "metadata": {},
     "output_type": "execute_result"
    }
   ],
   "source": [
    "len(files)"
   ]
  },
  {
   "cell_type": "code",
   "execution_count": null,
   "metadata": {},
   "outputs": [],
   "source": []
  }
 ],
 "metadata": {
  "kernelspec": {
   "display_name": "Python 3",
   "language": "python",
   "name": "python3"
  },
  "language_info": {
   "codemirror_mode": {
    "name": "ipython",
    "version": 3
   },
   "file_extension": ".py",
   "mimetype": "text/x-python",
   "name": "python",
   "nbconvert_exporter": "python",
   "pygments_lexer": "ipython3",
   "version": "3.7.3"
  }
 },
 "nbformat": 4,
 "nbformat_minor": 2
}
